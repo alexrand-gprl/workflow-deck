{
  "cells": [
    {
      "cell_type": "raw",
      "metadata": {},
      "source": [
        "---\n",
        "title: \"Workflow and Tooling\"\n",
        "author: \"\"\n",
        "format: \n",
        "  revealjs:\n",
        "    theme: simple\n",
        "    transition: slide\n",
        "    slide-number: true\n",
        "    width: 1280\n",
        "    height: 720\n",
        "---"
      ],
      "id": "33f3ebd7"
    },
    {
      "cell_type": "markdown",
      "metadata": {},
      "source": [
        "## Introduction\n",
        "\n",
        "- Quarto makes beautiful presentations\n",
        "- Works with Markdown syntax\n",
        "- Supports code, math, and visualizations\n",
        "\n",
        "## Adding Code"
      ],
      "id": "2d0469d8"
    },
    {
      "cell_type": "markdown",
      "metadata": {},
      "source": [
        "#| echo: true\n",
        "#| fig-cap: \"A simple visualization\"\n",
        "\n",
        "import matplotlib.pyplot as plt\n",
        "import numpy as np\n",
        "\n",
        "x = np.linspace(0, 10, 100)\n",
        "y = np.sin(x)\n",
        "\n",
        "plt.figure(figsize=(8, 4))\n",
        "plt.plot(x, y)\n",
        "plt.title(\"Sine Wave\")\n",
        "plt.show()"
      ],
      "id": "d59dbea5"
    }
  ],
  "metadata": {
    "kernelspec": {
      "display_name": "Python 3",
      "language": "python",
      "name": "python3"
    }
  },
  "nbformat": 4,
  "nbformat_minor": 5
}